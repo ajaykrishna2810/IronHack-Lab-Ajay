{
 "cells": [
  {
   "cell_type": "markdown",
   "id": "7b6c45f9",
   "metadata": {},
   "source": [
    "It is assumed that the mean systolic blood pressure is μ = 120 mm Hg. In the Honolulu Heart Study, a sample of n = 100 people had an average systolic blood pressure of 130.1 mm Hg with a standard deviation of 21.21 mm Hg. Is the group significantly different (with respect to systolic blood pressure!) from the regular population?\n",
    "\n",
    "1. Set up the hypothesis test.\n",
    "2. Write down all the steps followed for setting up the test.\n",
    "3. Calculate the test statistic by hand and also code it in Python. It should be 4.76190. What decision can you make based on this calculated value?"
   ]
  },
  {
   "cell_type": "code",
   "execution_count": 8,
   "id": "ef494463",
   "metadata": {},
   "outputs": [],
   "source": [
    "import numpy as np\n",
    "import pandas as pd\n",
    "import scipy.stats as stats\n",
    "import matplotlib.pyplot as plt\n",
    "import seaborn as sns\n",
    "\n",
    "%matplotlib inline"
   ]
  },
  {
   "cell_type": "markdown",
   "id": "5f0cbaed",
   "metadata": {},
   "source": [
    "We have to use a $t$ distribution since we do not have the standard deviation for the whole population. We only have the standard deviation for our sample of $100$ people. For $t$ distribution, the $t$ score is calculated as below:\n",
    "$$\n",
    "t = \\pm \\frac{130.1 - 120}{\\frac{21.21}{\\sqrt{100}}} \\sigma \n",
    "$$"
   ]
  },
  {
   "cell_type": "code",
   "execution_count": 14,
   "id": "acabb076",
   "metadata": {},
   "outputs": [
    {
     "data": {
      "text/plain": [
       "4.761904761904759"
      ]
     },
     "execution_count": 14,
     "metadata": {},
     "output_type": "execute_result"
    }
   ],
   "source": [
    "t = abs((130.1 - 120)/(21.21/np.sqrt(100))) # just the absolute for simplicity\n",
    "t"
   ]
  },
  {
   "cell_type": "markdown",
   "id": "e5895210",
   "metadata": {},
   "source": [
    "Let us assume that the confidence level (CL) $1 - \\alpha$ is $95 \\%$, i.e., the significance level $\\alpha = 5 \\%$.\n",
    "With CL $= 95 \\%$, the critical point (the $x$ axis on the normal distribution) is given by the code below: "
   ]
  },
  {
   "cell_type": "code",
   "execution_count": 15,
   "id": "86070f86",
   "metadata": {},
   "outputs": [
    {
     "data": {
      "text/plain": [
       "1.6603911559963895"
      ]
     },
     "execution_count": 15,
     "metadata": {},
     "output_type": "execute_result"
    }
   ],
   "source": [
    "stats.t.ppf(0.95, df=99) # the same result can be observed by checking the 99th row and the probability column with value 0.05\n",
    "# in the table given in the hint table "
   ]
  },
  {
   "cell_type": "markdown",
   "id": "02defd25",
   "metadata": {},
   "source": [
    "Decision: Since $4.76 > 1.66$, it means that the sample lies in significance level ($\\alpha$), hence we reject the null hypothesis. In other words, the sample lies outside the confidence interval and hence the rejection.  "
   ]
  }
 ],
 "metadata": {
  "kernelspec": {
   "display_name": "Python 3 (ipykernel)",
   "language": "python",
   "name": "python3"
  },
  "language_info": {
   "codemirror_mode": {
    "name": "ipython",
    "version": 3
   },
   "file_extension": ".py",
   "mimetype": "text/x-python",
   "name": "python",
   "nbconvert_exporter": "python",
   "pygments_lexer": "ipython3",
   "version": "3.9.13"
  }
 },
 "nbformat": 4,
 "nbformat_minor": 5
}
