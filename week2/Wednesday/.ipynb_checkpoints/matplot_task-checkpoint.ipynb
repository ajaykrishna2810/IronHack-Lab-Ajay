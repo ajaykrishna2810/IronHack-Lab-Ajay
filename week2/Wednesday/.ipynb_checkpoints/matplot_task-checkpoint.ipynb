{
 "cells": [
  {
   "cell_type": "code",
   "execution_count": null,
   "id": "a345dcdb",
   "metadata": {},
   "outputs": [],
   "source": [
    "As a reminder the objective of this study is to predict the total claim amount of a customer and study/investigate the impact of the factors (input features) on the target variable(total claim amount). That means in your exploratory data analysis, you have to look for patterns in this data that shows interesting relationships among the input features as well as with relation to the target feature.\n",
    "\n",
    "import matplotlib.pyplot as plt\n",
    "import seaborn as sns\n",
    "%matplotlib inline\n",
    "import matplotlib.colors as mcolors\n",
    "\n",
    "1. Get the numeric data into dataframe called numerical and categorical columns in a dataframe called categoricals. (You can use np.number and np.object to select the numerical data types and categorical data types respectively)\n",
    "\n",
    "\n",
    "df_numerical_features = auto_data_file.select_dtypes(include='number')\n",
    "df_categorical_features = auto_data_file.select_dtypes(include='category')\n",
    "\n",
    "df_numerical_features\n",
    "\n",
    "2. Now we will try to check the normality of the numerical variables visually: Use seaborn library to construct distribution plots for the numerical variables\n",
    "   \n",
    "\n",
    "sns.histplot(data=df_numerical_features['customer lifetime value'])  # seaborn\n",
    "\n",
    "sns.histplot(data=df_numerical_features['income']) \n",
    "\n",
    "sns.histplot(data=df_numerical_features['monthly premium auto']) \n",
    "\n",
    "sns.histplot(data=df_numerical_features['number of open complaints'])\n",
    "\n",
    "sns.histplot(data=df_numerical_features['total claim amount'])\n",
    "\n",
    "  2b. Use Matplotlib to construct histograms.\n",
    "\n",
    " plt.hist(df_numerical_features['customer lifetime value'])\n",
    "\n",
    " plt.hist(df_numerical_features['income'])\n",
    "\n",
    " plt.hist(df_numerical_features['monthly premium auto'])\n",
    "\n",
    " plt.hist(df_numerical_features['number of open complaints'])\n",
    "\n",
    " plt.hist(df_numerical_features['total claim amount'])"
   ]
  }
 ],
 "metadata": {
  "kernelspec": {
   "display_name": "Python 3 (ipykernel)",
   "language": "python",
   "name": "python3"
  },
  "language_info": {
   "codemirror_mode": {
    "name": "ipython",
    "version": 3
   },
   "file_extension": ".py",
   "mimetype": "text/x-python",
   "name": "python",
   "nbconvert_exporter": "python",
   "pygments_lexer": "ipython3",
   "version": "3.9.13"
  }
 },
 "nbformat": 4,
 "nbformat_minor": 5
}
