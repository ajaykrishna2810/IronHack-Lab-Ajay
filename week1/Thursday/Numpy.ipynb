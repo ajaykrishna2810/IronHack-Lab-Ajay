{
 "cells": [
  {
   "cell_type": "code",
   "execution_count": 1,
   "id": "714f49b5",
   "metadata": {},
   "outputs": [],
   "source": [
    "#### 1. Import the numpy package under the name `np` (★☆☆)\n",
    "import numpy as np\n"
   ]
  },
  {
   "cell_type": "code",
   "execution_count": 3,
   "id": "787117f9",
   "metadata": {},
   "outputs": [
    {
     "data": {
      "text/plain": [
       "array([0., 0., 0., 0., 0., 0., 0., 0., 0., 0.])"
      ]
     },
     "execution_count": 3,
     "metadata": {},
     "output_type": "execute_result"
    }
   ],
   "source": [
    "#### 2. Create a null vector of size 10 (★☆☆)\n",
    "np.zeros(10)"
   ]
  },
  {
   "cell_type": "code",
   "execution_count": 15,
   "id": "c379fa6e",
   "metadata": {},
   "outputs": [
    {
     "data": {
      "text/plain": [
       "array([0., 0., 0., 0., 1., 0., 0., 0., 0., 0.])"
      ]
     },
     "execution_count": 15,
     "metadata": {},
     "output_type": "execute_result"
    }
   ],
   "source": [
    "#### 3. Create a null vector of size 10 but the fifth value which is 1 (★☆☆)\n",
    "#`hint: array[4]`\n",
    "\n",
    "array = np.zeros(10)\n",
    "array[4] = 1\n",
    "array"
   ]
  },
  {
   "cell_type": "code",
   "execution_count": 18,
   "id": "9b30d395",
   "metadata": {},
   "outputs": [
    {
     "data": {
      "text/plain": [
       "array([10, 11, 12, 13, 14, 15, 16, 17, 18, 19, 20, 21, 22, 23, 24, 25, 26,\n",
       "       27, 28, 29, 30, 31, 32, 33, 34, 35, 36, 37, 38, 39, 40, 41, 42, 43,\n",
       "       44, 45, 46, 47, 48])"
      ]
     },
     "execution_count": 18,
     "metadata": {},
     "output_type": "execute_result"
    }
   ],
   "source": [
    "#### 4. Create a vector with values ranging from 10 to 49 (★☆☆)\n",
    "vector = np.arange(10,49)\n",
    "vector"
   ]
  },
  {
   "cell_type": "code",
   "execution_count": 30,
   "id": "e36980e0",
   "metadata": {},
   "outputs": [
    {
     "data": {
      "text/plain": [
       "array([[5, 6, 3],\n",
       "       [5, 4, 3],\n",
       "       [5, 2, 3]])"
      ]
     },
     "execution_count": 30,
     "metadata": {},
     "output_type": "execute_result"
    }
   ],
   "source": [
    "#### 5. Create a 3x3 matrix with values ranging from 0 to 8 (★☆☆)\n",
    "matrix = np.random.randint(0,8,(3,3))\n",
    "matrix"
   ]
  },
  {
   "cell_type": "code",
   "execution_count": 31,
   "id": "33f08d3d",
   "metadata": {},
   "outputs": [
    {
     "data": {
      "text/plain": [
       "(array([0, 1, 4], dtype=int64),)"
      ]
     },
     "execution_count": 31,
     "metadata": {},
     "output_type": "execute_result"
    }
   ],
   "source": [
    "#### 6. Find indices of non-zero elements from [1,2,0,0,4,0] (★☆☆)\n",
    "array = [1,2,0,0,4,0]\n",
    "np.nonzero(array)"
   ]
  },
  {
   "cell_type": "code",
   "execution_count": 33,
   "id": "b04c2bd5",
   "metadata": {},
   "outputs": [
    {
     "data": {
      "text/plain": [
       "array([[1., 0., 0.],\n",
       "       [0., 1., 0.],\n",
       "       [0., 0., 1.]])"
      ]
     },
     "execution_count": 33,
     "metadata": {},
     "output_type": "execute_result"
    }
   ],
   "source": [
    "#### 7. Create a 3x3 identity matrix (★☆☆)\n",
    "#`hint: np.eye\n",
    "np.eye(3,3)"
   ]
  },
  {
   "cell_type": "code",
   "execution_count": 35,
   "id": "88843ae5",
   "metadata": {
    "scrolled": false
   },
   "outputs": [
    {
     "data": {
      "text/plain": [
       "array([[[0.34563565, 0.60221553, 0.8715144 ],\n",
       "        [0.87413926, 0.96797877, 0.51406932],\n",
       "        [0.86267778, 0.2793618 , 0.3165124 ]],\n",
       "\n",
       "       [[0.02299979, 0.51656552, 0.65831352],\n",
       "        [0.21422381, 0.06297125, 0.29387591],\n",
       "        [0.94240217, 0.87299442, 0.9473643 ]],\n",
       "\n",
       "       [[0.22598111, 0.27868908, 0.92248328],\n",
       "        [0.98353075, 0.51417917, 0.21996728],\n",
       "        [0.43233349, 0.29380357, 0.95751475]]])"
      ]
     },
     "execution_count": 35,
     "metadata": {},
     "output_type": "execute_result"
    }
   ],
   "source": [
    "#### 8. Create a 3x3x3 array with random values (★☆☆)\n",
    "np.random.random((3,3,3))    "
   ]
  },
  {
   "cell_type": "code",
   "execution_count": 40,
   "id": "9ffe5c00",
   "metadata": {},
   "outputs": [
    {
     "data": {
      "text/plain": [
       "0.9945854243298404"
      ]
     },
     "execution_count": 40,
     "metadata": {},
     "output_type": "execute_result"
    }
   ],
   "source": [
    "#### 9. Create a 10x10 array with random values and find the minimum and maximum values (★☆☆)\n",
    "#hint: min, max`\n",
    "a = np.random.random((10,10))\n",
    "np.amin(a)\n",
    "np.amax(a)"
   ]
  },
  {
   "cell_type": "code",
   "execution_count": 56,
   "id": "396eb012",
   "metadata": {},
   "outputs": [
    {
     "data": {
      "text/plain": [
       "nan"
      ]
     },
     "execution_count": 56,
     "metadata": {},
     "output_type": "execute_result"
    }
   ],
   "source": [
    "#### 10. Create a random vector of size 30 and find the mean value (★☆☆)\n",
    "#hint: mean`\n",
    "b = np.random.random((0,30))\n",
    "np.mean(b)\n"
   ]
  },
  {
   "cell_type": "code",
   "execution_count": 126,
   "id": "609a7939",
   "metadata": {},
   "outputs": [
    {
     "ename": "SyntaxError",
     "evalue": "unexpected EOF while parsing (4165689580.py, line 12)",
     "output_type": "error",
     "traceback": [
      "\u001b[1;36m  File \u001b[1;32m\"C:\\Users\\ajayk\\AppData\\Local\\Temp\\ipykernel_38468\\4165689580.py\"\u001b[1;36m, line \u001b[1;32m12\u001b[0m\n\u001b[1;33m    \u001b[0m\n\u001b[1;37m    ^\u001b[0m\n\u001b[1;31mSyntaxError\u001b[0m\u001b[1;31m:\u001b[0m unexpected EOF while parsing\n"
     ]
    }
   ],
   "source": [
    "#### 11. Create a 5x5 matrix with values 1,2,3,4 just below the diagonal (★☆☆)\n",
    "#hint: np.diag`\n",
    "lst = [[1,2,3,10,12],[0.1,4,5,6,9],[2,7,8,9,9],[1,4,6,2,8],[5,2,9,11,3]]\n",
    "matrix1 = np.array(lst)\n",
    "\n",
    "print(np.diag(matrix1, k=-1))\n",
    "print(matrix1)\n",
    "\n",
    "\n",
    "matrix1[np.diag(matrix1,k=-1)] = np.array([1,2,3,4]\n",
    "\n",
    "\n"
   ]
  },
  {
   "cell_type": "code",
   "execution_count": 105,
   "id": "ed089212",
   "metadata": {
    "scrolled": true
   },
   "outputs": [
    {
     "name": "stdout",
     "output_type": "stream",
     "text": [
      "3.84\n",
      "2.0915066339842197\n",
      "[[ 0.55462411  2.39062115  3.34686961  3.34686961  0.47812423]\n",
      " [ 0.95624846 -1.35787281  1.91249692  1.43437269  1.43437269]\n",
      " [ 0.95624846  0.47812423 -0.40162435  0.95624846  0.95624846]\n",
      " [ 1.43437269  3.34686961  2.86874538 -0.87974858  0.95624846]\n",
      " [ 1.91249692  1.91249692  3.34686961  2.86874538  1.51087257]]\n"
     ]
    }
   ],
   "source": [
    "#### 12. Normalize a 5x5 random matrix (★☆☆)\n",
    "#hint: (x -mean)/std`\n",
    "matrix3 = matrix = np.random.randint(1,8,(5,5))    \n",
    "std_dev =np.std(matrix3)  \n",
    "mean = np.mean(matrix3)\n",
    "print(mean)\n",
    "print(std_dev)\n",
    "normalized_matrix = (1/std_dev)*matrix3 - (mean/std_dev)*np.eye(5,5)\n",
    "print(normalized_matrix)"
   ]
  },
  {
   "cell_type": "code",
   "execution_count": 104,
   "id": "5c56031f",
   "metadata": {},
   "outputs": [
    {
     "data": {
      "text/plain": [
       "array([1, 3])"
      ]
     },
     "execution_count": 104,
     "metadata": {},
     "output_type": "execute_result"
    }
   ],
   "source": [
    "#### 13. How to find common values between two arrays? (★☆☆)\n",
    "#hint: np.intersect1d`\n",
    "np.intersect1d([1, 3, 4, 3], [3, 1, 2, 1])"
   ]
  },
  {
   "cell_type": "code",
   "execution_count": 113,
   "id": "82432afe",
   "metadata": {},
   "outputs": [
    {
     "data": {
      "text/plain": [
       "array([ 0.1,  1. ,  2. ,  3. ,  4. ,  5. ,  6. ,  9. , 10. , 12. ])"
      ]
     },
     "execution_count": 113,
     "metadata": {},
     "output_type": "execute_result"
    }
   ],
   "source": [
    "#### 14. Create a random vector of size 10 and sort it (★★☆)\n",
    "#hint: sort`\n",
    "lst = [1,2,3,10,12,0.1,4,5,6,9]\n",
    "array = np.array(lst)    \n",
    "np.sort(array)"
   ]
  },
  {
   "cell_type": "code",
   "execution_count": 134,
   "id": "8310369e",
   "metadata": {},
   "outputs": [
    {
     "data": {
      "text/plain": [
       "array([ 1. ,  2. ,  3. , 10. ,  0. ,  0.1,  4. ,  5. ,  6. ,  9. ])"
      ]
     },
     "execution_count": 134,
     "metadata": {},
     "output_type": "execute_result"
    }
   ],
   "source": [
    "#### 15. Create random vector of size 10 and replace the maximum value by 0 (★★☆)\n",
    "#`hint: argmax`\n",
    "lst = [1,2,3,10,12,0.1,4,5,6,9]\n",
    "array1 = np.array(lst)  \n",
    "array1[np.argmax(array1)] = 0\n",
    "array1"
   ]
  },
  {
   "cell_type": "code",
   "execution_count": 132,
   "id": "734fd3c4",
   "metadata": {},
   "outputs": [
    {
     "name": "stdout",
     "output_type": "stream",
     "text": [
      "[[0.59624453 0.5038728  0.77125784 0.90614173 0.49434972 0.15407008\n",
      "  0.42354829 0.64489108 0.76393673 0.59368108]\n",
      " [0.70677496 0.25232528 0.36521887 0.36025166 0.16502415 0.18165122\n",
      "  0.07655417 0.02297638 0.41517045 0.57078144]\n",
      " [0.19900877 0.33971797 0.92422687 0.8907326  0.87926496 0.62825479\n",
      "  0.93982234 0.61226296 0.95113205 0.5807721 ]\n",
      " [0.63480092 0.94879688 0.49198191 0.29472596 0.31067256 0.39702334\n",
      "  0.37982282 0.53477176 0.09090759 0.08222367]\n",
      " [0.15995638 0.04344711 0.81664488 0.75260331 0.2338316  0.35340315\n",
      "  0.22706606 0.01360653 0.94591064 0.72723021]]\n",
      "\n",
      "Subtract the mean of each row of the said matrix:\n",
      "\n"
     ]
    }
   ],
   "source": [
    "#### 16. Subtract the mean of each row of a matrix (★★☆)\n",
    "#hint: mean(axis=,keepdims=)`\n",
    "X = np.random.rand(5, 10)\n",
    "print(X)\n",
    "print(\"\\nSubtract the mean of each row of the said matrix:\\n\")\n",
    "Y = X - X.mean(axis=1, keepdims=True)\n"
   ]
  },
  {
   "cell_type": "code",
   "execution_count": 135,
   "id": "b21cbebd",
   "metadata": {},
   "outputs": [
    {
     "name": "stdout",
     "output_type": "stream",
     "text": [
      "[9995 9996 9997 9998 9999]\n"
     ]
    }
   ],
   "source": [
    "#### 17. How to get the n largest values of an array (★★★)\n",
    "#`Z = np.arange(10000)\n",
    "#np.random.shuffle(Z)\n",
    "#n = 5\n",
    "#hint: np.argsort | np.argpartition`\n",
    "    \n",
    "    \n",
    "Z = np.arange(10000)\n",
    "np.random.shuffle(Z)\n",
    "n = 5\n",
    "print (Z[np.argsort(Z)[-n:]])    "
   ]
  },
  {
   "cell_type": "code",
   "execution_count": 140,
   "id": "d067b51f",
   "metadata": {},
   "outputs": [
    {
     "name": "stdout",
     "output_type": "stream",
     "text": [
      "[[4 2 7]\n",
      " [5 5 1]\n",
      " [0 5 6]\n",
      " [7 7 6]\n",
      " [2 0 0]]\n",
      "[[4 2 7]\n",
      " [5 5 1]\n",
      " [0 5 6]\n",
      " [7 7 6]\n",
      " [2 0 0]]\n"
     ]
    }
   ],
   "source": [
    "#### 18. Create a random 5*3 matrix and replace items that are larger than 4 by their squares ( Example:  6 --> 36) \n",
    "#`hint: np.where`\n",
    "matrix5 = np.random.randint(0,8,(5,3))  \n",
    "print(matrix5)\n",
    "matrix5[(matrix5 > 8)] = 5\n"
   ]
  }
 ],
 "metadata": {
  "kernelspec": {
   "display_name": "Python 3 (ipykernel)",
   "language": "python",
   "name": "python3"
  },
  "language_info": {
   "codemirror_mode": {
    "name": "ipython",
    "version": 3
   },
   "file_extension": ".py",
   "mimetype": "text/x-python",
   "name": "python",
   "nbconvert_exporter": "python",
   "pygments_lexer": "ipython3",
   "version": "3.9.13"
  }
 },
 "nbformat": 4,
 "nbformat_minor": 5
}
