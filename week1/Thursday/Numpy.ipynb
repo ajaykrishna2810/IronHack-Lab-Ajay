{
 "cells": [
  {
   "cell_type": "code",
   "execution_count": 1,
   "id": "371988c5",
   "metadata": {},
   "outputs": [],
   "source": [
    "#### 1. Import the numpy package under the name `np` (★☆☆)\n",
    "import numpy as np\n"
   ]
  },
  {
   "cell_type": "code",
   "execution_count": 3,
   "id": "f03f8c3a",
   "metadata": {
    "scrolled": true
   },
   "outputs": [
    {
     "data": {
      "text/plain": [
       "array([0., 0., 0., 0., 0., 0., 0., 0., 0., 0.])"
      ]
     },
     "execution_count": 3,
     "metadata": {},
     "output_type": "execute_result"
    }
   ],
   "source": [
    "#### 2. Create a null vector of size 10 (★☆☆)\n",
    "np.zeros(10)"
   ]
  },
  {
   "cell_type": "code",
   "execution_count": 15,
   "id": "828ac3c0",
   "metadata": {},
   "outputs": [
    {
     "data": {
      "text/plain": [
       "array([0., 0., 0., 0., 1., 0., 0., 0., 0., 0.])"
      ]
     },
     "execution_count": 15,
     "metadata": {},
     "output_type": "execute_result"
    }
   ],
   "source": [
    "#### 3. Create a null vector of size 10 but the fifth value which is 1 (★☆☆)\n",
    "#`hint: array[4]`\n",
    "\n",
    "array = np.zeros(10)\n",
    "array[4] = 1\n",
    "array"
   ]
  },
  {
   "cell_type": "code",
   "execution_count": 8,
   "id": "2a3021bc",
   "metadata": {},
   "outputs": [
    {
     "data": {
      "text/plain": [
       "array([10, 11, 12, 13, 14, 15, 16, 17, 18, 19, 20, 21, 22, 23, 24, 25, 26,\n",
       "       27, 28, 29, 30, 31, 32, 33, 34, 35, 36, 37, 38, 39, 40, 41, 42, 43,\n",
       "       44, 45, 46, 47, 48, 49])"
      ]
     },
     "execution_count": 8,
     "metadata": {},
     "output_type": "execute_result"
    }
   ],
   "source": [
    "#### 4. Create a vector with values ranging from 10 to 49 (★☆☆)\n",
    "vector = np.arange(10,50)\n",
    "vector"
   ]
  },
  {
   "cell_type": "code",
   "execution_count": 10,
   "id": "d4058b2c",
   "metadata": {},
   "outputs": [
    {
     "data": {
      "text/plain": [
       "array([[3, 5, 1],\n",
       "       [6, 7, 3],\n",
       "       [0, 5, 5]])"
      ]
     },
     "execution_count": 10,
     "metadata": {},
     "output_type": "execute_result"
    }
   ],
   "source": [
    "#### 5. Create a 3x3 matrix with values ranging from 0 to 8 (★☆☆)\n",
    "matrix = np.random.randint(0,8,(3,3))\n",
    "matrix"
   ]
  },
  {
   "cell_type": "code",
   "execution_count": 31,
   "id": "9e994040",
   "metadata": {},
   "outputs": [
    {
     "data": {
      "text/plain": [
       "(array([0, 1, 4], dtype=int64),)"
      ]
     },
     "execution_count": 31,
     "metadata": {},
     "output_type": "execute_result"
    }
   ],
   "source": [
    "#### 6. Find indices of non-zero elements from [1,2,0,0,4,0] (★☆☆)\n",
    "array = [1,2,0,0,4,0]\n",
    "np.nonzero(array)"
   ]
  },
  {
   "cell_type": "code",
   "execution_count": 33,
   "id": "1f199ff1",
   "metadata": {},
   "outputs": [
    {
     "data": {
      "text/plain": [
       "array([[1., 0., 0.],\n",
       "       [0., 1., 0.],\n",
       "       [0., 0., 1.]])"
      ]
     },
     "execution_count": 33,
     "metadata": {},
     "output_type": "execute_result"
    }
   ],
   "source": [
    "#### 7. Create a 3x3 identity matrix (★☆☆)\n",
    "#`hint: np.eye\n",
    "np.eye(3,3)"
   ]
  },
  {
   "cell_type": "code",
   "execution_count": 35,
   "id": "06c91024",
   "metadata": {
    "scrolled": false
   },
   "outputs": [
    {
     "data": {
      "text/plain": [
       "array([[[0.34563565, 0.60221553, 0.8715144 ],\n",
       "        [0.87413926, 0.96797877, 0.51406932],\n",
       "        [0.86267778, 0.2793618 , 0.3165124 ]],\n",
       "\n",
       "       [[0.02299979, 0.51656552, 0.65831352],\n",
       "        [0.21422381, 0.06297125, 0.29387591],\n",
       "        [0.94240217, 0.87299442, 0.9473643 ]],\n",
       "\n",
       "       [[0.22598111, 0.27868908, 0.92248328],\n",
       "        [0.98353075, 0.51417917, 0.21996728],\n",
       "        [0.43233349, 0.29380357, 0.95751475]]])"
      ]
     },
     "execution_count": 35,
     "metadata": {},
     "output_type": "execute_result"
    }
   ],
   "source": [
    "#### 8. Create a 3x3x3 array with random values (★☆☆)\n",
    "np.random.random((3,3,3))    "
   ]
  },
  {
   "cell_type": "code",
   "execution_count": 40,
   "id": "d460f111",
   "metadata": {},
   "outputs": [
    {
     "data": {
      "text/plain": [
       "0.9945854243298404"
      ]
     },
     "execution_count": 40,
     "metadata": {},
     "output_type": "execute_result"
    }
   ],
   "source": [
    "#### 9. Create a 10x10 array with random values and find the minimum and maximum values (★☆☆)\n",
    "#hint: min, max`\n",
    "a = np.random.random((10,10))\n",
    "np.amin(a)\n",
    "np.amax(a)"
   ]
  },
  {
   "cell_type": "code",
   "execution_count": 56,
   "id": "c524e1a7",
   "metadata": {},
   "outputs": [
    {
     "data": {
      "text/plain": [
       "nan"
      ]
     },
     "execution_count": 56,
     "metadata": {},
     "output_type": "execute_result"
    }
   ],
   "source": [
    "#### 10. Create a random vector of size 30 and find the mean value (★☆☆)\n",
    "#hint: mean`\n",
    "b = np.random.random((0,30))\n",
    "np.mean(b)\n"
   ]
  },
  {
   "cell_type": "code",
   "execution_count": 13,
   "id": "e1b7aca3",
   "metadata": {},
   "outputs": [
    {
     "name": "stdout",
     "output_type": "stream",
     "text": [
      "[[0 0 0 0 0]\n",
      " [1 0 0 0 0]\n",
      " [0 2 0 0 0]\n",
      " [0 0 3 0 0]\n",
      " [0 0 0 4 0]]\n"
     ]
    }
   ],
   "source": [
    "#### 11. Create a 5x5 matrix with values 1,2,3,4 just below the diagonal (★☆☆)\n",
    "#hint: np.diag`\n",
    "\n",
    "print(np.diag([1,2,3,4],k=-1)) # the code already knows that its a 5 times 5 matrix. Its is smart! And default is a zero matrix\n"
   ]
  },
  {
   "cell_type": "code",
   "execution_count": 105,
   "id": "171994c4",
   "metadata": {
    "scrolled": true
   },
   "outputs": [
    {
     "name": "stdout",
     "output_type": "stream",
     "text": [
      "3.84\n",
      "2.0915066339842197\n",
      "[[ 0.55462411  2.39062115  3.34686961  3.34686961  0.47812423]\n",
      " [ 0.95624846 -1.35787281  1.91249692  1.43437269  1.43437269]\n",
      " [ 0.95624846  0.47812423 -0.40162435  0.95624846  0.95624846]\n",
      " [ 1.43437269  3.34686961  2.86874538 -0.87974858  0.95624846]\n",
      " [ 1.91249692  1.91249692  3.34686961  2.86874538  1.51087257]]\n"
     ]
    }
   ],
   "source": [
    "#### 12. Normalize a 5x5 random matrix (★☆☆)\n",
    "#hint: (x -mean)/std`\n",
    "matrix3  = np.random.randint(1,8,(5,5))    \n",
    "std_dev =np.std(matrix3)  \n",
    "mean = np.mean(matrix3)\n",
    "print(mean)\n",
    "print(std_dev)\n",
    "normalized_matrix = (1/std_dev)*matrix3 - (mean/std_dev)*np.eye(5,5)\n",
    "print(normalized_matrix)"
   ]
  },
  {
   "cell_type": "code",
   "execution_count": 104,
   "id": "ee7011d4",
   "metadata": {},
   "outputs": [
    {
     "data": {
      "text/plain": [
       "array([1, 3])"
      ]
     },
     "execution_count": 104,
     "metadata": {},
     "output_type": "execute_result"
    }
   ],
   "source": [
    "#### 13. How to find common values between two arrays? (★☆☆)\n",
    "#hint: np.intersect1d`\n",
    "np.intersect1d([1, 3, 4, 3], [3, 1, 2, 1])"
   ]
  },
  {
   "cell_type": "code",
   "execution_count": 113,
   "id": "61ce5a26",
   "metadata": {},
   "outputs": [
    {
     "data": {
      "text/plain": [
       "array([ 0.1,  1. ,  2. ,  3. ,  4. ,  5. ,  6. ,  9. , 10. , 12. ])"
      ]
     },
     "execution_count": 113,
     "metadata": {},
     "output_type": "execute_result"
    }
   ],
   "source": [
    "#### 14. Create a random vector of size 10 and sort it (★★☆)\n",
    "#hint: sort`\n",
    "lst = [1,2,3,10,12,0.1,4,5,6,9]\n",
    "array = np.array(lst)    \n",
    "np.sort(array)"
   ]
  },
  {
   "cell_type": "code",
   "execution_count": 134,
   "id": "8743658a",
   "metadata": {},
   "outputs": [
    {
     "data": {
      "text/plain": [
       "array([ 1. ,  2. ,  3. , 10. ,  0. ,  0.1,  4. ,  5. ,  6. ,  9. ])"
      ]
     },
     "execution_count": 134,
     "metadata": {},
     "output_type": "execute_result"
    }
   ],
   "source": [
    "#### 15. Create random vector of size 10 and replace the maximum value by 0 (★★☆)\n",
    "#`hint: argmax`\n",
    "lst = [1,2,3,10,12,0.1,4,5,6,9]\n",
    "array1 = np.array(lst)  \n",
    "array1[np.argmax(array1)] = 0\n",
    "array1"
   ]
  },
  {
   "cell_type": "code",
   "execution_count": 17,
   "id": "4bb51c01",
   "metadata": {},
   "outputs": [
    {
     "name": "stdout",
     "output_type": "stream",
     "text": [
      "[[0.87606483 0.35601815 0.43757024 0.13051567 0.2505681  0.27883962\n",
      "  0.22585433 0.12278096 0.64417373 0.04752931]\n",
      " [0.33565023 0.3455663  0.06666238 0.10990635 0.4612517  0.2815692\n",
      "  0.83673308 0.95200991 0.26825194 0.35085277]\n",
      " [0.84034666 0.91954477 0.50529182 0.2520952  0.03573623 0.7577774\n",
      "  0.61211648 0.36983541 0.56745602 0.64578199]\n",
      " [0.81684714 0.82181922 0.97763459 0.29112655 0.22170358 0.31642183\n",
      "  0.06087393 0.20115355 0.5382091  0.00755221]\n",
      " [0.9991761  0.08401164 0.21854631 0.14796679 0.14908725 0.00225439\n",
      "  0.44650066 0.02915775 0.1419119  0.46969963]]\n",
      "\n",
      " Subtract the mean of each row of the said matrix:\n",
      "\n"
     ]
    }
   ],
   "source": [
    "#### 16. Subtract the mean of each row of a matrix (★★☆)\n",
    "#hint: mean(axis=,keepdims=)`\n",
    "X = np.random.rand(5, 10)\n",
    "print(X)\n",
    "print(\"\\n Subtract the mean of each row of the said matrix:\\n\")\n",
    "Y = X - X.mean(axis=1, keepdims=True) # axis = 1 means for each row, axis = 0 for each column\n"
   ]
  },
  {
   "cell_type": "code",
   "execution_count": 26,
   "id": "2ffc1ee1",
   "metadata": {},
   "outputs": [
    {
     "name": "stdout",
     "output_type": "stream",
     "text": [
      "[9995 9996 9997 9998 9999]\n"
     ]
    }
   ],
   "source": [
    "#### 17. How to get the n largest values of an array (★★★)\n",
    "#`Z = np.arange(10000)\n",
    "#np.random.shuffle(Z)\n",
    "#n = 5\n",
    "#hint: np.argsort | np.argpartition`\n",
    "   \n",
    "    \n",
    "Z = np.arange(10000)\n",
    "np.random.shuffle(Z)\n",
    "n = 5\n",
    "print (Z[np.argsort(Z)[-n:]])    "
   ]
  },
  {
   "cell_type": "code",
   "execution_count": 143,
   "id": "9d6500d3",
   "metadata": {},
   "outputs": [
    {
     "name": "stdout",
     "output_type": "stream",
     "text": [
      "[[1 0 7]\n",
      " [6 1 0]\n",
      " [1 5 7]\n",
      " [0 1 4]\n",
      " [7 4 7]]\n",
      "(array([0, 2, 4, 4], dtype=int64), array([2, 2, 0, 2], dtype=int64))\n"
     ]
    }
   ],
   "source": [
    "#### 18. Create a random 5*3 matrix and replace items that are larger than 4 by their squares ( Example:  6 --> 36) \n",
    "#`hint: np.where`\n",
    "matrix5 = np.random.randint(0,8,(5,3))  \n",
    "print(matrix5)\n",
    "print(np.where(matrix5 >6))\n"
   ]
  }
 ],
 "metadata": {
  "kernelspec": {
   "display_name": "Python 3 (ipykernel)",
   "language": "python",
   "name": "python3"
  },
  "language_info": {
   "codemirror_mode": {
    "name": "ipython",
    "version": 3
   },
   "file_extension": ".py",
   "mimetype": "text/x-python",
   "name": "python",
   "nbconvert_exporter": "python",
   "pygments_lexer": "ipython3",
   "version": "3.9.13"
  }
 },
 "nbformat": 4,
 "nbformat_minor": 5
}
