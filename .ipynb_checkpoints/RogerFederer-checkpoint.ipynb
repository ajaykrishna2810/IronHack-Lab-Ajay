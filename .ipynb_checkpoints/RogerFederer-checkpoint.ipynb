{
 "cells": [
  {
   "cell_type": "markdown",
   "id": "4f733971",
   "metadata": {},
   "source": [
    "# Roger Federer's vacation"
   ]
  },
  {
   "cell_type": "code",
   "execution_count": 10,
   "id": "7e39c711",
   "metadata": {},
   "outputs": [
    {
     "name": "stdout",
     "output_type": "stream",
     "text": [
      "Name of the person:Roger Federer\n"
     ]
    },
    {
     "data": {
      "text/plain": [
       "'Roger Federer'"
      ]
     },
     "execution_count": 10,
     "metadata": {},
     "output_type": "execute_result"
    }
   ],
   "source": [
    "input('Name of the person:') # input('YourInput') gives us the chance to input YourInput "
   ]
  },
  {
   "cell_type": "markdown",
   "id": "b1279a3e",
   "metadata": {},
   "source": [
    "![](https://ds.static.rtbf.be/article/image/770x433/6/7/9/d96eed18098da6ab5c15dd856998e4bd-1659959285.jpg)"
   ]
  },
  {
   "cell_type": "markdown",
   "id": "08f93f5c",
   "metadata": {},
   "source": [
    "## South Africa\n",
    "![](https://www.nationsonline.org/gallery/South-Africa/Twelve-Apostles-Oudekraal.jpg)"
   ]
  },
  {
   "cell_type": "markdown",
   "id": "de33e89b",
   "metadata": {},
   "source": [
    "## Roger's activities in South Africa\n",
    "- He likes the beaches there \n",
    "- He likes to conduct tennis matches in South Africa for charity \n",
    "- Visit family"
   ]
  },
  {
   "cell_type": "code",
   "execution_count": null,
   "id": "6a126a87",
   "metadata": {},
   "outputs": [],
   "source": []
  }
 ],
 "metadata": {
  "kernelspec": {
   "display_name": "Python 3 (ipykernel)",
   "language": "python",
   "name": "python3"
  },
  "language_info": {
   "codemirror_mode": {
    "name": "ipython",
    "version": 3
   },
   "file_extension": ".py",
   "mimetype": "text/x-python",
   "name": "python",
   "nbconvert_exporter": "python",
   "pygments_lexer": "ipython3",
   "version": "3.9.13"
  }
 },
 "nbformat": 4,
 "nbformat_minor": 5
}
